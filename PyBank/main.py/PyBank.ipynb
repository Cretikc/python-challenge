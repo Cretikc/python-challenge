{
 "cells": [
  {
   "cell_type": "code",
   "execution_count": 2,
   "id": "6ae3d1b2-f035-4a70-b26c-e3a7f0e5bd5d",
   "metadata": {},
   "outputs": [],
   "source": [
    "# Dependencies\n",
    "import csv\n",
    "import os\n",
    "\n",
    "# Files to load and output (update with correct file paths)\n",
    "file_to_load = os.path.join(\"../Resources\", \"budget_data.csv\")  # Input file path\n",
    "file_to_output = os.path.join(\"../analysis\", \"budget_analysis.txt\")  # Output file path\n"
   ]
  },
  {
   "cell_type": "code",
   "execution_count": 39,
   "id": "28df33c6-1c61-4398-8978-2744c161f413",
   "metadata": {},
   "outputs": [
    {
     "name": "stdout",
     "output_type": "stream",
     "text": [
      "86\n",
      "22564198\n",
      "-8311.105882352942\n",
      "1862002\n",
      "-1825558\n"
     ]
    }
   ],
   "source": [
    "#Reading file to load\n",
    "import csv\n",
    "\n",
    "#define variable\n",
    "total = 0\n",
    "total_months = 0\n",
    "net_profit_losses = 0\n",
    "average_profit_losses = 0\n",
    "previous_profit_loss = 0\n",
    "row_number = 0\n",
    "total_change_in_profit_losses = 0\n",
    "greatest_profit_increase = 0\n",
    "greatest_profit_increase_month = ''\n",
    "greatest_profit_decrease = 0\n",
    "greatest_profit_decrease_month = ''\n",
    "\n",
    "\n",
    "#opening file \n",
    "with open (file_to_load, \"r\") as file:\n",
    "    csv_reader = csv.reader (file)\n",
    "    next (csv_reader)\n",
    "    for row in csv_reader:\n",
    "        net_profit_losses = net_profit_losses+ int(row [1])\n",
    "\n",
    "        #net change of profit/loss and average change \n",
    "        if total_months != 0:\n",
    "            monthly_change = (int(row [1]) -  previous_profit_loss)\n",
    "            total_change_in_profit_losses = total_change_in_profit_losses + monthly_change\n",
    "            if monthly_change > greatest_profit_increase:\n",
    "                greatest_profit_increase = monthly_change\n",
    "                greatest_profit_increase_month = row [0]\n",
    "                \n",
    "            if monthly_change < greatest_profit_decrease:\n",
    "                greatest_profit_decrease = monthly_change\n",
    "                greatest_profit_decrease_month = row [0]\n",
    "                \n",
    "           \n",
    "        previous_profit_loss = int(row [1])\n",
    "        total_months = total_months + 1\n",
    "        \n",
    "    #Total months and net  profit/loss                                      \n",
    "    print (total_months)\n",
    "    print (net_profit_losses)\n",
    "    \n",
    "    #Profit loss over entire time\n",
    "    average_profit_losses =  total_change_in_profit_losses/ (total_months - 1)\n",
    "    print(average_profit_losses)\n",
    "    \n",
    "    # greatest profit increase and decrease\n",
    "    print(greatest_profit_increase)\n",
    "    print(greatest_profit_decrease)\n",
    "    \n",
    "# exproting in txt file\n",
    "with open (file_to_output, \"w\") as file:\n",
    "    file.write('Financial Analysis\\n')\n",
    "    file.write ('----------------------------\\n')\n",
    "    file.write('Total months:' + str(total_months) + '\\n')\n",
    "    file.write('Total: $' + str(net_profit_losses) + '\\n')  \n",
    "    file.write('Average Change: $' + str(average_profit_losses) + '\\n')\n",
    "    file.write('Greatest Increase in Profits:' + str(greatest_profit_increase_month) + ' ($'+ str(greatest_profit_increase)+')' + '\\n')\n",
    "    file.write('Greatest Decrease in Profits:' + str(greatest_profit_decrease_month) + ' ($'+ str(greatest_profit_decrease)+')' + '\\n')\n",
    "    \n",
    "\n",
    "\n",
    " \n"
   ]
  },
  {
   "cell_type": "code",
   "execution_count": null,
   "id": "bf9ffcc8-6527-485f-98f8-5d4266c8a48b",
   "metadata": {},
   "outputs": [],
   "source": []
  }
 ],
 "metadata": {
  "kernelspec": {
   "display_name": "Python 3 (ipykernel)",
   "language": "python",
   "name": "python3"
  },
  "language_info": {
   "codemirror_mode": {
    "name": "ipython",
    "version": 3
   },
   "file_extension": ".py",
   "mimetype": "text/x-python",
   "name": "python",
   "nbconvert_exporter": "python",
   "pygments_lexer": "ipython3",
   "version": "3.10.15"
  }
 },
 "nbformat": 4,
 "nbformat_minor": 5
}
